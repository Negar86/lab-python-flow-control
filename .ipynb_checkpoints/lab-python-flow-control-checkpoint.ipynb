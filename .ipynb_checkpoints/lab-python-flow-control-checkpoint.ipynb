{
 "cells": [
  {
   "cell_type": "markdown",
   "id": "d3bfc191-8885-42ee-b0a0-bbab867c6f9f",
   "metadata": {
    "tags": []
   },
   "source": [
    "# Lab | Flow Control"
   ]
  },
  {
   "cell_type": "markdown",
   "id": "3851fcd1-cf98-4653-9c89-e003b7ec9400",
   "metadata": {},
   "source": [
    "## Exercise: Managing Customer Orders Optimized\n",
    "\n",
    "In the last lab, you were starting an online store that sells various products. To ensure smooth operations, you developed a program that manages customer orders and inventory.\n",
    "\n",
    "You did so without using flow control. Let's go a step further and improve this code.\n",
    "\n",
    "Follow the steps below to complete the exercise:\n",
    "\n",
    "1. Look at your code from the lab data structures, and improve repeated code with loops.\n",
    "\n",
    "2. Instead of asking the user to input the name of three products that a customer wants to order, do the following:\n",
    "    \n",
    "    a. Prompt the user to enter the name of a product that a customer wants to order.\n",
    "    \n",
    "    b. Add the product name to the \"customer_orders\" set.\n",
    "    \n",
    "    c. Ask the user if they want to add another product (yes/no).\n",
    "    \n",
    "    d. Continue the loop until the user does not want to add another product.\n",
    "\n",
    "3. Instead of updating the inventory by subtracting 1 from the quantity of each product, only do it for  the products that were ordered (those in \"customer_orders\")."
   ]
  },
  {
   "cell_type": "code",
   "execution_count": 3,
   "id": "60ffe57c",
   "metadata": {
    "scrolled": true
   },
   "outputs": [
    {
     "name": "stdout",
     "output_type": "stream",
     "text": [
      "Please enter the quantity of t-shirt: 68\n",
      "Please enter the quantity of mug: 100\n",
      "Please enter the quantity of hat: 96\n",
      "Please enter the quantity of book: 35\n",
      "Please enter the quantity of keychain: 75\n",
      "Your inventory is as follow: {'t-shirt': 68, 'mug': 100, 'hat': 96, 'book': 35, 'keychain': 75}\n"
     ]
    }
   ],
   "source": [
    "products = [\"t-shirt\", \"mug\", \"hat\", \"book\", \"keychain\"]\n",
    "inventory = {}\n",
    "for product in products:\n",
    "    while True:\n",
    "        product_name = (input(f'Please enter the quantity of {product}: ').lower())\n",
    "        if product_name.isdigit():\n",
    "            inventory[product] = int(product_name)\n",
    "            break\n",
    "        else:\n",
    "            print('Please enter a number: ')\n",
    "print(f\"Your inventory is as follow: {inventory}\")\n"
   ]
  },
  {
   "cell_type": "code",
   "execution_count": 4,
   "id": "87e1ca0f",
   "metadata": {
    "scrolled": true
   },
   "outputs": [
    {
     "name": "stdout",
     "output_type": "stream",
     "text": [
      "Please enter the name of a product you want to order : ['t-shirt', 'mug', 'hat', 'book', 'keychain']: mug\n",
      "Do you want to add another product (yes/no)yes\n",
      "Please enter the name of a product you want to order : ['t-shirt', 'mug', 'hat', 'book', 'keychain']: t shirt\n",
      "I think you did not enter the name correctly\n",
      "Please enter the name of a product you want to order : ['t-shirt', 'mug', 'hat', 'book', 'keychain']: t-shirt\n",
      "Do you want to add another product (yes/no)no\n",
      "Your order has been placed!\n"
     ]
    }
   ],
   "source": [
    "customer_orders = set()\n",
    "correct = True\n",
    "while correct == True:\n",
    "    requests= input(f'Please enter the name of a product you want to order : {products}: ').lower()\n",
    "    while requests not in products:\n",
    "        print('I think you did not enter the name correctly')\n",
    "        requests= input(f'Please enter the name of a product you want to order : {products}: ').lower()\n",
    "        \n",
    "        \n",
    "    customer_orders.add(requests)\n",
    "    users_answer =(input('Do you want to add another product (yes/no)').upper())\n",
    "    if users_answer.strip() == 'YES':\n",
    "        correct = True\n",
    "    else:\n",
    "        break\n",
    "\n",
    "print ('Your order has been placed!')"
   ]
  },
  {
   "cell_type": "code",
   "execution_count": 5,
   "id": "938862aa",
   "metadata": {},
   "outputs": [
    {
     "name": "stdout",
     "output_type": "stream",
     "text": [
      "Order Statistics:\n",
      "Total Products Ordered: 2 \n",
      "Percentage of Products Ordered: 0.53%\n"
     ]
    }
   ],
   "source": [
    "Total_Products_Ordered = len(customer_orders)\n",
    "total_available_products = sum(inventory.values())\n",
    "percent_orders = round((Total_Products_Ordered / total_available_products *100),2)\n",
    "order_status=(Total_Products_Ordered,percent_orders)\n",
    "print(\"Order Statistics:\")\n",
    "print(f\"Total Products Ordered: {order_status[0]} \")\n",
    "print(f\"Percentage of Products Ordered: {order_status[1]}%\")\n"
   ]
  },
  {
   "cell_type": "code",
   "execution_count": 6,
   "id": "d63f9226",
   "metadata": {},
   "outputs": [
    {
     "name": "stdout",
     "output_type": "stream",
     "text": [
      "updated inventory is: ('t-shirt', 67)\n",
      "updated inventory is: ('mug', 99)\n",
      "updated inventory is: ('hat', 96)\n",
      "updated inventory is: ('book', 35)\n",
      "updated inventory is: ('keychain', 75)\n"
     ]
    }
   ],
   "source": [
    "updated_inventory = {}\n",
    "for key,value in inventory.items():\n",
    "    if key in customer_orders:\n",
    "        updated_inventory[key] = value-1\n",
    "    else:\n",
    "        updated_inventory[key] = value\n",
    "    \n",
    "    \n",
    "for item in updated_inventory.items():\n",
    "    print(f\"updated inventory is: {item}\")"
   ]
  },
  {
   "cell_type": "code",
   "execution_count": null,
   "id": "c246362b",
   "metadata": {},
   "outputs": [],
   "source": []
  }
 ],
 "metadata": {
  "kernelspec": {
   "display_name": "Python 3 (ipykernel)",
   "language": "python",
   "name": "python3"
  },
  "language_info": {
   "codemirror_mode": {
    "name": "ipython",
    "version": 3
   },
   "file_extension": ".py",
   "mimetype": "text/x-python",
   "name": "python",
   "nbconvert_exporter": "python",
   "pygments_lexer": "ipython3",
   "version": "3.11.5"
  }
 },
 "nbformat": 4,
 "nbformat_minor": 5
}
