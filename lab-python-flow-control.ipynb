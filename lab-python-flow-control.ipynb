{
 "cells": [
  {
   "cell_type": "markdown",
   "id": "d3bfc191-8885-42ee-b0a0-bbab867c6f9f",
   "metadata": {
    "tags": []
   },
   "source": [
    "# Lab | Flow Control"
   ]
  },
  {
   "cell_type": "markdown",
   "id": "3851fcd1-cf98-4653-9c89-e003b7ec9400",
   "metadata": {},
   "source": [
    "## Exercise: Managing Customer Orders Optimized\n",
    "\n",
    "In the last lab, you were starting an online store that sells various products. To ensure smooth operations, you developed a program that manages customer orders and inventory.\n",
    "\n",
    "You did so without using flow control. Let's go a step further and improve this code.\n",
    "\n",
    "Follow the steps below to complete the exercise:\n",
    "\n",
    "1. Look at your code from the lab data structures, and improve repeated code with loops.\n",
    "\n",
    "2. Instead of asking the user to input the name of three products that a customer wants to order, do the following:\n",
    "    \n",
    "    a. Prompt the user to enter the name of a product that a customer wants to order.\n",
    "    \n",
    "    b. Add the product name to the \"customer_orders\" set.\n",
    "    \n",
    "    c. Ask the user if they want to add another product (yes/no).\n",
    "    \n",
    "    d. Continue the loop until the user does not want to add another product.\n",
    "\n",
    "3. Instead of updating the inventory by subtracting 1 from the quantity of each product, only do it for  the products that were ordered (those in \"customer_orders\")."
   ]
  },
  {
   "cell_type": "code",
   "execution_count": 1,
   "id": "60ffe57c",
   "metadata": {
    "scrolled": true
   },
   "outputs": [
    {
     "name": "stdout",
     "output_type": "stream",
     "text": [
      "Enter the quantity of t-shirt: fifty\n",
      "Please enter a 'number'.\n",
      "Enter the quantity of t-shirt: 50\n",
      "Enter the quantity of mug: 60\n",
      "Enter the quantity of hat: 70\n",
      "Enter the quantity of book: 80\n",
      "Enter the quantity of keychain: 90\n",
      "\n",
      "Your inventory is:\n",
      "{'t-shirt': 50, 'mug': 60, 'hat': 70, 'book': 80, 'keychain': 90}\n"
     ]
    }
   ],
   "source": [
    "products = [\"t-shirt\", \"mug\", \"hat\", \"book\", \"keychain\"]\n",
    "inventory = {}\n",
    "for i in products:\n",
    "    while True:\n",
    "        quantity = input(f\"Enter the quantity of {i}: \")\n",
    "        if quantity.isdigit():\n",
    "            inventory[i] = int(quantity)\n",
    "            break\n",
    "        else:\n",
    "            print(\"Please enter a 'number'.\")\n",
    "            \n",
    "print(f\"\\nYour inventory is:\\n{inventory}\")"
   ]
  },
  {
   "cell_type": "code",
   "execution_count": 2,
   "id": "6402927c",
   "metadata": {},
   "outputs": [
    {
     "name": "stdout",
     "output_type": "stream",
     "text": [
      "Enter the name of product you want to order['t-shirt', 'mug', 'hat', 'book', 'keychain']: tshirt\n",
      "Not in the inventory or did not enter the name correctly!\n",
      "Enter the name of product you want to order['t-shirt', 'mug', 'hat', 'book', 'keychain']: t-shirt\n",
      "Do you want to add another product(YES/NO):yep\n",
      "Incorrect answer.Please type 'YES' for continue or 'No'to finish.\n",
      "Do you want to add another product(YES/NO):yes\n",
      "Enter the name of product you want to order['t-shirt', 'mug', 'hat', 'book', 'keychain']: book\n",
      "Do you want to add another product(YES/NO):no\n",
      "Your order has been placed successfully:\n",
      "{'t-shirt', 'book'}\n"
     ]
    }
   ],
   "source": [
    "customer_orders = set()\n",
    "correct = True\n",
    "while correct == True:\n",
    "    order = input(f\"Enter the name of product you want to order{products}: \")\n",
    "    while order not in products:\n",
    "        print(\"Not in the inventory or did not enter the name correctly!\")\n",
    "        order = input(f\"Enter the name of product you want to order{products}: \")\n",
    "        \n",
    "    customer_orders.add(order)  \n",
    "    \n",
    "    answer = True\n",
    "    while answer == True:\n",
    "        another_order = input(\"Do you want to add another product(YES/NO):\").upper().strip()\n",
    "        if another_order == \"YES\":\n",
    "            answer = False\n",
    "            correct = True\n",
    "            \n",
    "        elif another_order == \"NO\":\n",
    "            print(f\"Your order has been placed successfully:\\n{customer_orders}\")\n",
    "            answer = False\n",
    "            correct = False\n",
    "        else:\n",
    "            print(\"Incorrect answer.Please type 'YES' for continue or 'No'to finish.\")\n",
    "            answer = True\n"
   ]
  },
  {
   "cell_type": "code",
   "execution_count": 3,
   "id": "938862aa",
   "metadata": {},
   "outputs": [
    {
     "name": "stdout",
     "output_type": "stream",
     "text": [
      "Order Statistics:\n",
      "Total Products Ordered: 2 \n",
      "Percentage of Products Ordered: 0.57%\n"
     ]
    }
   ],
   "source": [
    "Total_Products_Ordered = len(customer_orders)\n",
    "total_available_products = sum(inventory.values())\n",
    "percent_orders = round((Total_Products_Ordered / total_available_products *100),2)\n",
    "order_status=(Total_Products_Ordered,percent_orders)\n",
    "print(\"Order Statistics:\")\n",
    "print(f\"Total Products Ordered: {order_status[0]} \")\n",
    "print(f\"Percentage of Products Ordered: {order_status[1]}%\")\n"
   ]
  },
  {
   "cell_type": "code",
   "execution_count": 4,
   "id": "d63f9226",
   "metadata": {},
   "outputs": [
    {
     "name": "stdout",
     "output_type": "stream",
     "text": [
      "Updated inventory is:\n",
      "t-shirt : 49\n",
      "mug : 60\n",
      "hat : 70\n",
      "book : 79\n",
      "keychain : 90\n"
     ]
    }
   ],
   "source": [
    "for i in customer_orders:\n",
    "    inventory[i] -= 1\n",
    "\n",
    "print (\"Updated inventory is:\")\n",
    "for k,v in inventory.items():\n",
    "    print (f\"{k} : {v}\")"
   ]
  },
  {
   "cell_type": "code",
   "execution_count": null,
   "id": "c246362b",
   "metadata": {},
   "outputs": [],
   "source": []
  }
 ],
 "metadata": {
  "kernelspec": {
   "display_name": "Python 3 (ipykernel)",
   "language": "python",
   "name": "python3"
  },
  "language_info": {
   "codemirror_mode": {
    "name": "ipython",
    "version": 3
   },
   "file_extension": ".py",
   "mimetype": "text/x-python",
   "name": "python",
   "nbconvert_exporter": "python",
   "pygments_lexer": "ipython3",
   "version": "3.11.5"
  }
 },
 "nbformat": 4,
 "nbformat_minor": 5
}
